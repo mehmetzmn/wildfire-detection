{
 "cells": [
  {
   "cell_type": "code",
   "execution_count": 2,
   "metadata": {},
   "outputs": [],
   "source": [
    "list_of_needed_animals = [\"antelope\", \"badger\", \"bear\", \"boar\", \"cow\", \"coyote\",\n",
    "\"deer\", \"donkey\",\"fox\", \"goat\", \"gorilla\", \"hare\", \"hedgehog\", \"horse\",\n",
    "\"kangaroo\", \"koala\", \"leopard\", \"lizard\", \"otter\",\n",
    "\"owl\", \"ox\", \"parrot\", \"pelican\", \"porcupine\", \"possum\", \n",
    "\"raccoon\", \"reindeer\", \"sandpiper\", \"sheep\", \"snake\", \"sparrow\",\n",
    "\"squirrel\", \"swan\", \"tiger\", \"wolf\", \"woodpecker\"]"
   ]
  },
  {
   "cell_type": "code",
   "execution_count": 3,
   "metadata": {},
   "outputs": [],
   "source": [
    "birds = [\"owl\", \"parrot\", \"pelican\", \"sandpiper\", \"sparrow\", \"swan\",\n",
    "         \"woodpecker\"]"
   ]
  },
  {
   "cell_type": "code",
   "execution_count": null,
   "metadata": {},
   "outputs": [],
   "source": [
    "import os\n",
    "import shutil\n",
    "\n",
    "ANIMAL_ROOT = \"/Users/user/Desktop/animals/animals/animals\"\n",
    "\n",
    "list_of_all_animals = os.listdir(ANIMAL_ROOT)\n",
    "\n",
    "for animal_dir in list_of_all_animals:\n",
    "    if animal_dir == \".DS_Store\":\n",
    "        continue\n",
    "    if animal_dir not in list_of_needed_animals:\n",
    "        shutil.rmtree(os.path.join(ANIMAL_ROOT, animal_dir))"
   ]
  },
  {
   "cell_type": "code",
   "execution_count": 26,
   "metadata": {},
   "outputs": [],
   "source": [
    "# TODO: Gather all the bird species and put them in a separate birds folder\n",
    "\n",
    "if not os.path.exists(os.path.join(ANIMAL_ROOT, \"birds\")):\n",
    "    os.mkdir(os.path.join(ANIMAL_ROOT, \"birds\"))\n",
    "\n",
    "for bird in birds:\n",
    "    if not os.path.exists(os.path.join(ANIMAL_ROOT, bird)):\n",
    "        continue\n",
    "    else:\n",
    "        shutil.move(os.path.join(ANIMAL_ROOT, bird), os.path.join(ANIMAL_ROOT, \"birds\"))"
   ]
  },
  {
   "cell_type": "code",
   "execution_count": null,
   "metadata": {},
   "outputs": [],
   "source": []
  },
  {
   "cell_type": "code",
   "execution_count": null,
   "metadata": {},
   "outputs": [],
   "source": []
  },
  {
   "cell_type": "code",
   "execution_count": 2,
   "metadata": {},
   "outputs": [],
   "source": [
    "import cv2\n",
    "\n",
    "def compare_images(image1_path, image2_path):\n",
    "    # read images\n",
    "    image1 = cv2.imread(image1_path)\n",
    "    image2 = cv2.imread(image2_path)\n",
    "\n",
    "    # Compare size of images, if not equal return False\n",
    "    if image1.shape != image2.shape:\n",
    "        return False\n",
    "\n",
    "    # Subtract the pixels of the two images, split them into their respective channels\n",
    "    # and check if the difference is 0, if yes then the images are equal\n",
    "    difference = cv2.subtract(image1, image2)\n",
    "    b, g, r = cv2.split(difference)\n",
    "    if cv2.countNonZero(b) == 0 and cv2.countNonZero(g) == 0 and cv2.countNonZero(r) == 0:\n",
    "        return True\n",
    "    else:\n",
    "        return False"
   ]
  },
  {
   "cell_type": "code",
   "execution_count": null,
   "metadata": {},
   "outputs": [],
   "source": [
    "# TODO: Remove all duplicate images\n",
    "\n",
    "import os\n",
    "\n",
    "VEHICLES_ROOT = \"/Users/user/Desktop/Vehicles-OpenImages.v1-416x416.yolov8\"\n",
    "\n",
    "directories = ['valid', 'train', \"test\"]\n",
    "\n",
    "duplicate_images = []\n",
    "for directory in directories:\n",
    "    path = os.path.join(VEHICLES_ROOT, directory, \"images\")\n",
    "    print(\"directory ->\", directory, path, len(os.listdir(path)))\n",
    "    list_of_files = os.listdir(path)\n",
    "    for i in range(len(list_of_files)):\n",
    "        for j in range(i+1, len(list_of_files)):\n",
    "            if list_of_files[i] == \".DS_Store\" or list_of_files[j] == \".DS_Store\":\n",
    "                continue\n",
    "            if compare_images(os.path.join(path, list_of_files[i]), os.path.join(path, list_of_files[j])):\n",
    "                print(os.path.join(path, list_of_files[i]), os.path.join(path, list_of_files[j]))\n",
    "                # os.remove(os.path.join(path, list_of_files[j]))\n",
    "                duplicate_images.append(os.path.join(path, list_of_files[j]))\n"
   ]
  },
  {
   "cell_type": "code",
   "execution_count": 9,
   "metadata": {},
   "outputs": [
    {
     "data": {
      "text/plain": [
       "627"
      ]
     },
     "execution_count": 9,
     "metadata": {},
     "output_type": "execute_result"
    }
   ],
   "source": [
    "len(duplicate_images)"
   ]
  },
  {
   "cell_type": "code",
   "execution_count": 10,
   "metadata": {},
   "outputs": [],
   "source": [
    "for img in duplicate_images:\n",
    "    os.remove(img)"
   ]
  },
  {
   "cell_type": "code",
   "execution_count": null,
   "metadata": {},
   "outputs": [],
   "source": [
    "import cv2\n",
    "\n",
    "img = cv2.imread(\"/Users/user/Desktop/Vehicles-OpenImages.v1-416x416.yolov8/valid/images/0a836954ceeac15f_jpg.rf.7f4bcc9a1e1d2db7dabcd6676a2ac8af.jpg\")\n",
    "img2 = cv2.imread(\"/Users/user/Desktop/Vehicles-OpenImages.v1-416x416.yolov8/valid/images/0a836954ceeac15f_jpg.rf.RZ21tOD71ejVAsXWFSr1.jpg\")\n",
    "\"/Users/archosan/Desktop/Vehicles-OpenImages.v1-416x416.yolov8/valid/images/0a836954ceeac15f_jpg.rf.7f4bcc9a1e1d2db7dabcd6676a2ac8af.jpg\""
   ]
  },
  {
   "cell_type": "code",
   "execution_count": 18,
   "metadata": {},
   "outputs": [
    {
     "name": "stdout",
     "output_type": "stream",
     "text": [
      "True\n"
     ]
    }
   ],
   "source": [
    "print(compare_images(\"/Users/user/Desktop/Vehicles-OpenImages.v1-416x416.yolov8/valid/images/0a836954ceeac15f_jpg.rf.7f4bcc9a1e1d2db7dabcd6676a2ac8af.jpg\", \n",
    "                     \"/Users/user/Desktop/Vehicles-OpenImages.v1-416x416.yolov8/valid/images/0a836954ceeac15f_jpg.rf.RZ21tOD71ejVAsXWFSr1.jpg\"))"
   ]
  },
  {
   "cell_type": "code",
   "execution_count": null,
   "metadata": {},
   "outputs": [],
   "source": [
    "\"\"\"\n",
    "TODO: Loop through all the image folders and take 20 images from each folder\n",
    "      put them into a seprate two different folders.\n",
    "      One with no folders and one with folders same as the original\n",
    "\"\"\""
   ]
  },
  {
   "cell_type": "code",
   "execution_count": 9,
   "metadata": {},
   "outputs": [
    {
     "name": "stdout",
     "output_type": "stream",
     "text": [
      "animal_species -> ['gorilla', 'donkey', 'raccoon', 'antelope', 'coyote', 'fox', 'boar', 'hare', 'bear', 'leopard', 'sheep', 'ox', 'tiger', 'reindeer', 'otter', 'goat', 'porcupine', 'wolf', 'lizard', 'kangaroo', 'koala', 'hedgehog', 'horse', 'squirrel', 'cow', 'deer', 'snake', 'badger', 'possum'] 29\n",
      "bird_species -> ['sparrow', 'owl', 'sandpiper', 'woodpecker', 'parrot', 'swan', 'pelican'] 7\n"
     ]
    }
   ],
   "source": [
    "import os\n",
    "import shutil\n",
    "\n",
    "NEW_ANIMAL_ROOT = \"/Users/user/Desktop/animals\"\n",
    "\n",
    "PLAIN_ANIMALS_ROOT = \"/Users/user/Desktop/plain_animals\"\n",
    "\n",
    "ANIMALSV2_ROOT = \"/Users/user/Desktop/animalsv2\"\n",
    "\n",
    "image_folder_size = 20\n",
    "\n",
    "animal_species = []\n",
    "bird_species = []\n",
    "for folder in os.listdir(ANIMALSV2_ROOT):\n",
    "    if folder == '.DS_Store':\n",
    "        continue\n",
    "    elif folder == 'birds':\n",
    "        path = os.path.join(ANIMALSV2_ROOT, folder)\n",
    "        for folder2 in os.listdir(path):\n",
    "            if folder2 == '.DS_Store':\n",
    "                continue\n",
    "            else:\n",
    "                bird_species.append(folder2)\n",
    "    else:\n",
    "        animal_species.append(folder)\n",
    "        \n",
    "print(\"animal_species ->\", animal_species, len(animal_species))\n",
    "print(\"bird_species ->\", bird_species, len(bird_species))"
   ]
  },
  {
   "cell_type": "code",
   "execution_count": null,
   "metadata": {},
   "outputs": [],
   "source": [
    "for race in animal_species:\n",
    "    path = os.path.join(NEW_ANIMAL_ROOT, race)\n",
    "    img_list = os.listdir(path)\n",
    "    for file in img_list[:image_folder_size]:\n",
    "        if file == '.DS_Store':\n",
    "            continue\n",
    "        if not os.path.exists(os.path.join(ANIMALSV2_ROOT, race)):\n",
    "            os.mkdir(os.path.join(ANIMALSV2_ROOT, race))\n",
    "        source_file = os.path.join(path, file)\n",
    "        destination_file = os.path.join(ANIMALSV2_ROOT, race, file)\n",
    "        shutil.copy(source_file, destination_file)\n",
    "        print(source_file, destination_file)"
   ]
  },
  {
   "cell_type": "code",
   "execution_count": null,
   "metadata": {},
   "outputs": [],
   "source": [
    "for bird_race in bird_species:\n",
    "    path = os.path.join(NEW_ANIMAL_ROOT, 'birds', bird_race)\n",
    "    img_list = os.listdir(path)\n",
    "    \n",
    "    if not os.path.exists(os.path.join(ANIMALSV2_ROOT, 'birds', bird_race)):\n",
    "        os.mkdir(os.path.join(ANIMALSV2_ROOT, 'birds', bird_race))\n",
    "    for file in img_list[:image_folder_size]:\n",
    "        if file == '.DS_Store':\n",
    "            continue\n",
    "        source_file = os.path.join(NEW_ANIMAL_ROOT, 'birds', bird_race, file)\n",
    "        destination_file = os.path.join(ANIMALSV2_ROOT, 'birds', bird_race, file)\n",
    "        print(source_file, destination_file)\n",
    "        shutil.copy(source_file, destination_file)"
   ]
  },
  {
   "cell_type": "code",
   "execution_count": 7,
   "metadata": {},
   "outputs": [],
   "source": [
    "for race in animal_species:\n",
    "    path = os.path.join(NEW_ANIMAL_ROOT, race)\n",
    "    img_list = os.listdir(path)\n",
    "    for file in img_list[:image_folder_size]:\n",
    "        if file == '.DS_Store':\n",
    "            continue\n",
    "        source_file = os.path.join(path, file)\n",
    "        destination_file = os.path.join(PLAIN_ANIMALS_ROOT, file)\n",
    "        shutil.copy(source_file, destination_file)\n",
    "        # print(source_file, destination_file)"
   ]
  },
  {
   "cell_type": "code",
   "execution_count": 8,
   "metadata": {},
   "outputs": [],
   "source": [
    "for bird_race in bird_species:\n",
    "    path = os.path.join(NEW_ANIMAL_ROOT, 'birds', bird_race)\n",
    "    img_list = os.listdir(path)\n",
    "    \n",
    "    for file in img_list[:image_folder_size]:\n",
    "        if file == '.DS_Store':\n",
    "            continue\n",
    "        source_file = os.path.join(path, file)\n",
    "        destination_file = os.path.join(PLAIN_ANIMALS_ROOT, file)\n",
    "        # print(source_file, destination_file)\n",
    "        shutil.copy(source_file, destination_file)"
   ]
  },
  {
   "cell_type": "code",
   "execution_count": null,
   "metadata": {},
   "outputs": [],
   "source": []
  },
  {
   "cell_type": "code",
   "execution_count": 2,
   "metadata": {},
   "outputs": [],
   "source": [
    "import os\n",
    "from email.message import EmailMessage\n",
    "import ssl\n",
    "import smtplib\n",
    "\n",
    "mail_sender = 'mehmetbmw98@gmail.com'\n",
    "password = 'ocaysptewajeaarv'\n",
    "mail_receiver = 'tiyicok187@quipas.com'\n",
    "\n",
    "subject = 'Check out new video'\n",
    "\n",
    "body = \"\"\"\n",
    "I've just published a new video on YouTube : blah blah blah\n",
    "\"\"\"\n",
    "\n",
    "em = EmailMessage()\n",
    "em['From'] = mail_sender\n",
    "em['To'] = mail_receiver\n",
    "em['Subject'] = subject\n",
    "em.set_content(body)\n",
    "\n",
    "context = ssl.create_default_context()\n",
    "with smtplib.SMTP_SSL('smtp.gmail.com', 465, context=context) as server:\n",
    "    server.login(mail_sender, password)\n",
    "    server.sendmail(mail_sender, mail_receiver, em.as_string())"
   ]
  },
  {
   "cell_type": "code",
   "execution_count": null,
   "metadata": {},
   "outputs": [],
   "source": []
  },
  {
   "cell_type": "code",
   "execution_count": null,
   "metadata": {},
   "outputs": [],
   "source": []
  },
  {
   "cell_type": "code",
   "execution_count": 13,
   "metadata": {},
   "outputs": [],
   "source": [
    "def leftover_bidders(bids, number_of_items):\n",
    "    myQueue = MySpecialQueue()\n",
    "\n",
    "    for bid in bids:\n",
    "        myQueue.insert(bid)\n",
    "    \n",
    "    for sale in range(number_of_items):\n",
    "        myQueue.dequeue()\n",
    "\n",
    "    return myQueue.queue if myQueue.queue else [None]\n",
    "\n",
    "class MySpecialQueue:\n",
    "    def __init__(self):\n",
    "        self.queue = []\n",
    "\n",
    "    def insert(self, data):\n",
    "        self.queue.append(data)\n",
    "\n",
    "    def dequeue(self):\n",
    "        pass\n"
   ]
  },
  {
   "cell_type": "code",
   "execution_count": 14,
   "metadata": {},
   "outputs": [
    {
     "name": "stdout",
     "output_type": "stream",
     "text": [
      "this is return type -> <class 'list'>\n",
      "this is the result -> [10, 20, 30, 40, 50, 60, 70, 80, 90]\n"
     ]
    }
   ],
   "source": [
    "def test():\n",
    "    bids = [10, 20, 30, 40, 50, 60, 70, 80, 90]\n",
    "    number_of_items = 4\n",
    "\n",
    "    print(\"this is return type ->\", type(leftover_bidders(bids, number_of_items)))\n",
    "    print(\"this is the result ->\", leftover_bidders(bids, number_of_items))\n",
    "\n",
    "test()"
   ]
  },
  {
   "cell_type": "code",
   "execution_count": 76,
   "metadata": {},
   "outputs": [
    {
     "name": "stdout",
     "output_type": "stream",
     "text": [
      "2023:07:17\n",
      "2023-07-17 00:00:00\n"
     ]
    }
   ],
   "source": [
    "from datetime import datetime\n",
    "import re\n",
    "import subprocess\n",
    "\n",
    "test_image_PATH = \"/Users/user/Desktop/Python projects/wildfire detection/UI/static/images/camera2/test.png\"\n",
    "\n",
    "exiftoolPATH = \"/usr/local/bin/exiftool\"\n",
    "process = subprocess.Popen([exiftoolPATH, test_image_PATH],\n",
    "\t\t\t\t\t\tstdout=subprocess.PIPE,\n",
    "\t\t\t\t\t\tstderr=subprocess.STDOUT,\n",
    "\t\t\t\t\t\tuniversal_newlines=True)\n",
    "\n",
    "\"\"\"\n",
    "NOTE:\n",
    "dates_Dic =\n",
    "{\n",
    "    'camera1': {'image1': date, ...},\n",
    "    'camera2': {'image1': date, ...}\n",
    "}\n",
    "\n",
    "\"\"\"\n",
    "dates_Dic={}\n",
    "\n",
    "for tag in process.stdout:\n",
    "    line = tag.strip().split(':', 1)\n",
    "    # searching for 'File Modification Date/Time' tag\n",
    "    modification_tag = re.search(\"Modification\", tag)\n",
    "    if modification_tag is not None:\n",
    "        date = line[1].strip()[:19]\n",
    "        print(date.split(' ')[0])\n",
    "        print(datetime.strptime(date.split(' ')[0], '%Y:%m:%d'))\n",
    "\n"
   ]
  },
  {
   "cell_type": "code",
   "execution_count": 77,
   "metadata": {},
   "outputs": [
    {
     "name": "stdout",
     "output_type": "stream",
     "text": [
      "{'camera1': {'test6.jpeg': datetime.datetime(2023, 7, 22, 0, 0), 'test.jpeg': datetime.datetime(2023, 7, 16, 0, 0), 'test1.jpeg': datetime.datetime(2023, 7, 17, 0, 0), 'test2.jpeg': datetime.datetime(2023, 7, 17, 0, 0), 'test3.jpeg': datetime.datetime(2023, 7, 17, 0, 0), 'test4.jpeg': datetime.datetime(2023, 7, 22, 0, 0), 'test5.jpeg': datetime.datetime(2023, 7, 22, 0, 0), 'image0.jpg': datetime.datetime(2023, 7, 28, 0, 0)}, 'camera2': {'test6.png': datetime.datetime(2023, 7, 22, 0, 0), 'test5.png': datetime.datetime(2023, 7, 22, 0, 0), 'test4.png': datetime.datetime(2023, 7, 22, 0, 0), 'test1.png': datetime.datetime(2023, 7, 17, 0, 0), 'test3.png': datetime.datetime(2023, 7, 17, 0, 0), 'test2.png': datetime.datetime(2023, 7, 17, 0, 0), 'test.png': datetime.datetime(2023, 7, 17, 0, 0)}}\n",
      "2023-07-01 00:00:00 2023-07-19 00:00:00\n",
      "filtered images -> ['images/camera1/test.jpeg', 'images/camera1/test1.jpeg', 'images/camera1/test2.jpeg', 'images/camera1/test3.jpeg']\n"
     ]
    }
   ],
   "source": [
    "import os\n",
    "from datetime import datetime\n",
    "import re\n",
    "import subprocess\n",
    "\n",
    "ROOT_PATH = \"/Users/user/Desktop/Python projects/wildfire detection/UI/static/images/\"\n",
    "\n",
    "def extract_date_from_image_metadata(image_path):\n",
    "    exiftoolPATH = \"/usr/local/bin/exiftool\"\n",
    "    process = subprocess.Popen([exiftoolPATH, image_path],\n",
    "                            stdout=subprocess.PIPE,\n",
    "                            stderr=subprocess.STDOUT,\n",
    "                            universal_newlines=True)\n",
    "\n",
    "    for tag in process.stdout:\n",
    "        line = tag.strip().split(':', 1)\n",
    "        # searching for 'File Modification Date/Time' tag\n",
    "        modification_tag = re.search(\"Modification\", tag)\n",
    "        if modification_tag is not None:\n",
    "            date = line[1].strip()[:19]\n",
    "            # print(datetime.strptime(date, '%Y:%m:%d %H:%M:%S'))\n",
    "            return datetime.strptime(date.split(' ')[0], '%Y:%m:%d')\n",
    "\n",
    "\n",
    "\"\"\"\n",
    "NOTE:\n",
    "dates_dict =\n",
    "{\n",
    "    'camera1': {'image1': date, ...},\n",
    "    'camera2': {'image1': date, ...}\n",
    "}\n",
    "\n",
    "\"\"\"\n",
    "dates_dict={}\n",
    "\n",
    "for folder in os.listdir(ROOT_PATH):\n",
    "    if folder == \".DS_Store\":\n",
    "        continue\n",
    "    elif folder == \"camera1\":\n",
    "        for img in os.listdir(os.path.join(ROOT_PATH, folder)):\n",
    "            if folder not in dates_dict:\n",
    "                dates_dict[folder] = {}\n",
    "            dates_dict[folder][img] = extract_date_from_image_metadata(os.path.join(ROOT_PATH, folder, img))\n",
    "    elif folder == \"camera2\":\n",
    "        for img in os.listdir(os.path.join(ROOT_PATH, folder)):\n",
    "            if folder not in dates_dict:\n",
    "                dates_dict[folder] = {}\n",
    "            dates_dict[folder][img] = extract_date_from_image_metadata(os.path.join(ROOT_PATH, folder, img))\n",
    "\n",
    "\n",
    "print(dates_dict)\n",
    "\n",
    "\n",
    "start_date = datetime.strptime(\"2023:07:01\", '%Y:%m:%d')\n",
    "end_date = datetime.strptime(\"2023:07:19\", '%Y:%m:%d')\n",
    "\n",
    "images_all = ['images/camera1/test6.jpeg', 'images/camera1/test.jpeg', 'images/camera1/test1.jpeg', 'images/camera1/test2.jpeg', 'images/camera1/test3.jpeg', 'images/camera1/test4.jpeg', 'images/camera1/test5.jpeg', 'images/camera1/image0.jpg']\n",
    "\n",
    "print(start_date, end_date)\n",
    "\n",
    "images_filtered = []\n",
    "\n",
    "for camera in dates_dict:\n",
    "    for img in dates_dict[camera]:\n",
    "        if dates_dict[camera][img] >= start_date and dates_dict[camera][img] <= end_date:\n",
    "            # print('true')\n",
    "            # print(camera, img, dates_dict[camera][img])\n",
    "            for image in images_all:\n",
    "                if image.endswith(img):\n",
    "                    images_filtered.append(image)\n",
    "\n",
    "print(\"filtered images ->\", images_filtered)\n"
   ]
  },
  {
   "cell_type": "code",
   "execution_count": 68,
   "metadata": {},
   "outputs": [
    {
     "name": "stdout",
     "output_type": "stream",
     "text": [
      "['images', 'camera1', 'test6.jpeg']\n",
      "['images', 'camera1', 'test.jpeg']\n",
      "['images', 'camera1', 'test1.jpeg']\n",
      "['images', 'camera1', 'test2.jpeg']\n",
      "['images', 'camera1', 'test3.jpeg']\n",
      "['images', 'camera1', 'test4.jpeg']\n",
      "['images', 'camera1', 'test5.jpeg']\n",
      "['images', 'camera1', 'image0.jpg']\n"
     ]
    }
   ],
   "source": [
    "images_all = ['images/camera1/test6.jpeg', 'images/camera1/test.jpeg', 'images/camera1/test1.jpeg', 'images/camera1/test2.jpeg', 'images/camera1/test3.jpeg', 'images/camera1/test4.jpeg', 'images/camera1/test5.jpeg', 'images/camera1/image0.jpg']\n",
    "\n",
    "for image in images_all:\n",
    "    image = image.split('/')\n",
    "    print(image)"
   ]
  },
  {
   "cell_type": "code",
   "execution_count": 17,
   "metadata": {},
   "outputs": [
    {
     "name": "stdout",
     "output_type": "stream",
     "text": [
      "wildfire2 image0.jpg\n",
      "wildfdd image0.jpg\n"
     ]
    }
   ],
   "source": [
    "import os\n",
    "import shutil\n",
    "\n",
    "path = \"/Users/user/Desktop/Python projects/wildfire detection/UI/static/images/camera1\"\n",
    "\n",
    "for pth in os.listdir(path):\n",
    "    if pth == \".DS_Store\":\n",
    "        continue\n",
    "    elif os.path.isdir(os.path.join(path, pth)):\n",
    "        for img in os.listdir(os.path.join(path, pth)):\n",
    "            if img == \".DS_Store\":\n",
    "                continue\n",
    "            else:\n",
    "                old_name = os.path.join(path, pth, img)\n",
    "                new_name = os.path.join(path, pth ,pth + '.jpg')\n",
    "                os.rename(old_name, new_name)\n",
    "                shutil.move(new_name, os.path.join(path))\n",
    "                os.rmdir(os.path.join(path, pth))\n"
   ]
  },
  {
   "cell_type": "code",
   "execution_count": 14,
   "metadata": {},
   "outputs": [
    {
     "name": "stdout",
     "output_type": "stream",
     "text": [
      "this is a image name wildfire2\n",
      "this is a image name wildfdd\n"
     ]
    }
   ],
   "source": [
    "# Check if the path is a file or a directory\n",
    "# in this case predict method creates a directory named \"predict\" and saves the image in it\n",
    "\n",
    "# try to get folder size and continue of where you left off\n",
    "# if the folder size is 0 then start from the beginning\n",
    "# if the folder size is not 0 then continue from where you left off\n",
    "\n",
    "import os\n",
    "\n",
    "PATH_IMAGE = \"/Users/user/Desktop/not_detected\"\n",
    "\n",
    "if os.path.isdir(PATH_IMAGE):\n",
    "    for img in os.listdir(PATH_IMAGE):\n",
    "        if img == '.DS_Store':\n",
    "            continue\n",
    "        img_path = os.path.join(PATH_IMAGE, img)\n",
    "        img_name = os.path.splitext(os.path.basename(img_path))[0]\n",
    "        print(\"this is a image name\", img_name)\n",
    "\n",
    "else:\n",
    "    img_name = os.path.splitext(os.path.basename(PATH_IMAGE))[0]\n",
    "    print(\"this is a image name\", img_name)\n",
    "        "
   ]
  }
 ],
 "metadata": {
  "kernelspec": {
   "display_name": ".venv",
   "language": "python",
   "name": "python3"
  },
  "language_info": {
   "codemirror_mode": {
    "name": "ipython",
    "version": 3
   },
   "file_extension": ".py",
   "mimetype": "text/x-python",
   "name": "python",
   "nbconvert_exporter": "python",
   "pygments_lexer": "ipython3",
   "version": "3.8.11"
  },
  "orig_nbformat": 4
 },
 "nbformat": 4,
 "nbformat_minor": 2
}
